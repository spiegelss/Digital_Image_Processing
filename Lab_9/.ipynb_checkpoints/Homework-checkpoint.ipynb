{
 "cells": [
  {
   "cell_type": "code",
   "execution_count": 1,
   "metadata": {},
   "outputs": [],
   "source": [
    "import os\n",
    "from sklearn.datasets import fetch_olivetti_faces\n",
    "from sklearn.metrics import accuracy_score,confusion_matrix\n",
    "from sklearn.neural_network import MLPClassifier\n",
    "from sklearn.model_selection import train_test_split,GridSearchCV\n",
    "os.chdir(r'D:\\Digital_Image_Processing\\Lab_9')\n"
   ]
  },
  {
   "cell_type": "code",
   "execution_count": 2,
   "metadata": {},
   "outputs": [],
   "source": [
    "def mlp_fun(X,y,hidden_layer,activation,learning_rate,test_size = 0.3,random_state = 100):\n",
    "    '''Main function that determines and runs the mlp algorithm with the best accuracy score:\n",
    "    \n",
    "    ########################parameters########################\n",
    "        \n",
    "        X: Input images (number of images, pixels per image).\n",
    "        y: label of image.\n",
    "        hidden layer sizes: list of tuples of nodes,layers.\n",
    "        activation funcion: list of activation functions to run.\n",
    "        learning rate: list of learning rates. \n",
    "        \n",
    "    \n",
    "    ########################returns###########################\n",
    "    \n",
    "        best classifier with parameters\n",
    "        predictecd values\n",
    "        tested values\n",
    "        \n",
    "    '''\n",
    "\n",
    "    X_train,X_test,y_train,y_test = train_test_split(X,y,test_size = test_size,random_state=random_state)\n",
    "    \n",
    "\n",
    "    param_grid = {\n",
    "            'hidden_layer_sizes': hidden_layer,\n",
    "            'activation': activation,\n",
    "            'learning_rate_init': learning_rate\n",
    "        } \n",
    "\n",
    "    clf = GridSearchCV(MLPClassifier(solver='sgd',verbose=False,random_state=random_state),param_grid=param_grid,n_jobs=-1)\n",
    "    clf = clf.fit(X_train,y_train)\n",
    "    y_pred = clf.predict(X_test)\n",
    "    return clf,y_pred,y_test"
   ]
  },
  {
   "cell_type": "code",
   "execution_count": 3,
   "metadata": {},
   "outputs": [],
   "source": [
    "faces = fetch_olivetti_faces()\n",
    "X = faces.data\n",
    "y = faces.target"
   ]
  },
  {
   "cell_type": "code",
   "execution_count": 4,
   "metadata": {
    "scrolled": true
   },
   "outputs": [
    {
     "name": "stdout",
     "output_type": "stream",
     "text": [
      "There are 400 digits in this dataset.\n",
      "There are 4096 pixels per image.\n",
      "There are 40 classes.\n"
     ]
    }
   ],
   "source": [
    "print('There are {} digits in this dataset.'.format(str(X.shape[0])))\n",
    "print('There are {} pixels per image.'.format(str(X.shape[1])))\n",
    "print('There are {} classes.'.format(str(max(y+1))))\n",
    "\n",
    "hidden_layer = [(200 ,6), (300,100), (400, 200),(500,500)]\n",
    "activation = ['relu','logistic','tanh']\n",
    "learning_rate = [5e-1, 5e-2, 5e-3]"
   ]
  },
  {
   "cell_type": "code",
   "execution_count": 5,
   "metadata": {},
   "outputs": [
    {
     "name": "stderr",
     "output_type": "stream",
     "text": [
      "C:\\Users\\sspiegel\\Anaconda3\\lib\\site-packages\\sklearn\\neural_network\\multilayer_perceptron.py:564: ConvergenceWarning: Stochastic Optimizer: Maximum iterations (200) reached and the optimization hasn't converged yet.\n",
      "  % self.max_iter, ConvergenceWarning)\n"
     ]
    }
   ],
   "source": [
    "\n",
    "clf,y_pred,y_test = mlp_fun(X,y,hidden_layer,activation,learning_rate)\n",
    "    \n"
   ]
  },
  {
   "cell_type": "code",
   "execution_count": 6,
   "metadata": {},
   "outputs": [
    {
     "name": "stdout",
     "output_type": "stream",
     "text": [
      "Accuracy Score: 0.925\n",
      "Best learning rate, hidden layer size, activation function: 0.005,(400, 200),tanh\n"
     ]
    }
   ],
   "source": [
    "print('Accuracy Score: {}'.format(accuracy_score(y_test,y_pred)))\n",
    "print('Best learning rate, hidden layer size, activation function: {},{},{}'.format(clf.best_estimator_.learning_rate_init,clf.best_estimator_.hidden_layer_sizes,clf.best_estimator_.activation))"
   ]
  },
  {
   "cell_type": "code",
   "execution_count": 7,
   "metadata": {},
   "outputs": [
    {
     "name": "stdout",
     "output_type": "stream",
     "text": [
      "[[3 0 0 ... 0 0 0]\n",
      " [0 3 0 ... 0 0 0]\n",
      " [0 0 5 ... 0 0 0]\n",
      " ...\n",
      " [0 0 0 ... 2 0 0]\n",
      " [0 0 0 ... 0 5 0]\n",
      " [0 0 0 ... 0 0 2]]\n"
     ]
    }
   ],
   "source": [
    "\n",
    "print(confusion_matrix(y_test,y_pred))"
   ]
  },
  {
   "cell_type": "markdown",
   "metadata": {},
   "source": [
    "### How does the value of the learning rate affect the classification accuracy? Why?\n",
    "\n",
    "The lower the learning rate, the slower the 'descent' of the gradient descent.  If the learning rate is too high, the next step of the gradient descent may not converge to the minimum of the cost function.  \n"
   ]
  },
  {
   "cell_type": "markdown",
   "metadata": {},
   "source": [
    "### Does the increased hidden layer size improve the classification accuracy? Why?\n",
    "\n",
    "The increase number of layers helps fit the data.  However, notice that there is not a direct relationship between number of layers and accuracy.  Notice the classification algorithm with the best results was the one with 200 hidden layers with 400 nodes, not the one with 500 layers and 500 nodes.  If one overfits the data with too many layers, the algorithm will not perform well on the test dataset."
   ]
  },
  {
   "cell_type": "code",
   "execution_count": null,
   "metadata": {},
   "outputs": [],
   "source": []
  }
 ],
 "metadata": {
  "anaconda-cloud": {},
  "kernelspec": {
   "display_name": "Python 3",
   "language": "python",
   "name": "python3"
  },
  "language_info": {
   "codemirror_mode": {
    "name": "ipython",
    "version": 3
   },
   "file_extension": ".py",
   "mimetype": "text/x-python",
   "name": "python",
   "nbconvert_exporter": "python",
   "pygments_lexer": "ipython3",
   "version": "3.7.0"
  }
 },
 "nbformat": 4,
 "nbformat_minor": 2
}
